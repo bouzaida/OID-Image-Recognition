{
 "cells": [
  {
   "cell_type": "markdown",
   "metadata": {},
   "source": [
    "# Course:  Convolutional Neural Networks for Image Classification\n",
    "\n",
    "## Section-2\n",
    "### Modify downloaded dataset to use it for Classification\n",
    "\n",
    "**Description:**  \n",
    "*Cut objects from images to use them for Classification  \n",
    "Assemble and save prepared dataset*\n",
    "\n",
    "**File:** *verify_custom_dataset.ipynb*"
   ]
  },
  {
   "cell_type": "markdown",
   "metadata": {},
   "source": [
    "### Algorithm:\n",
    "\n",
    "**-->** Run all cells  \n",
    "\n",
    "\n",
    "**Result:**  \n",
    "- Plot with 100 images from created custom dataset  \n",
    "- Histogram to show distribution of images among classes\n",
    "\n"
   ]
  },
  {
   "cell_type": "markdown",
   "metadata": {},
   "source": [
    "## Importing libraries"
   ]
  },
  {
   "cell_type": "code",
   "execution_count": null,
   "metadata": {},
   "outputs": [],
   "source": [
    "# Importing needed libraries\n",
    "import matplotlib.pyplot as plt\n",
    "import numpy as np\n",
    "import h5py\n"
   ]
  },
  {
   "cell_type": "markdown",
   "metadata": {},
   "source": [
    "## Reading saved custom dataset"
   ]
  },
  {
   "cell_type": "code",
   "execution_count": null,
   "metadata": {},
   "outputs": [],
   "source": [
    "# Opening saved dataset from HDF5 binary file\n",
    "# Initiating File object\n",
    "# Opening file in reading mode by 'r'\n",
    "with h5py.File('dataset_custom.hdf5', 'r') as f:\n",
    "    # Showing all keys in the HDF5 binary file\n",
    "    print(list(f.keys()))\n",
    "    \n",
    "    # Extracting saved arrays for training by appropriate keys\n",
    "    # Saving them into new variables    \n",
    "    x_train = f['x_train']  # HDF5 dataset\n",
    "    y_train = f['y_train']  # HDF5 dataset\n",
    "    # Converting them into Numpy arrays\n",
    "    x_train = np.array(x_train)  # Numpy arrays\n",
    "    y_train = np.array(y_train)  # Numpy arrays\n",
    "    \n",
    "    \n",
    "    # Extracting saved arrays for validation by appropriate keys\n",
    "    # Saving them into new variables \n",
    "    x_validation = f['x_validation']  # HDF5 dataset\n",
    "    y_validation = f['y_validation']  # HDF5 dataset\n",
    "    # Converting them into Numpy arrays\n",
    "    x_validation = np.array(x_validation)  # Numpy arrays\n",
    "    y_validation = np.array(y_validation)  # Numpy arrays\n",
    "    \n",
    "    \n",
    "    # Extracting saved arrays for testing by appropriate keys\n",
    "    # Saving them into new variables \n",
    "    x_test = f['x_test']  # HDF5 dataset\n",
    "    y_test = f['y_test']  # HDF5 dataset\n",
    "    # Converting them into Numpy arrays\n",
    "    x_test = np.array(x_test)  # Numpy arrays\n",
    "    y_test = np.array(y_test)  # Numpy arrays\n"
   ]
  },
  {
   "cell_type": "markdown",
   "metadata": {},
   "source": [
    "## Showing types and shapes of loaded arrays"
   ]
  },
  {
   "cell_type": "code",
   "execution_count": null,
   "metadata": {
    "scrolled": true
   },
   "outputs": [],
   "source": [
    "# Showing types of loaded arrays\n",
    "print(type(x_train))\n",
    "print(type(y_train))\n",
    "print(type(x_validation))\n",
    "print(type(y_validation))\n",
    "print(type(x_test))\n",
    "print(type(y_test))\n",
    "print()\n",
    "\n",
    "\n",
    "# Showing shapes of loaded arrays\n",
    "print(x_train.shape)\n",
    "print(y_train.shape)\n",
    "print(x_validation.shape)\n",
    "print(y_validation.shape)\n",
    "print(x_test.shape)\n",
    "print(y_test.shape)\n"
   ]
  },
  {
   "cell_type": "markdown",
   "metadata": {},
   "source": [
    "## Defining list of classes' names"
   ]
  },
  {
   "cell_type": "code",
   "execution_count": null,
   "metadata": {},
   "outputs": [],
   "source": [
    "# Defining list of classes' names\n",
    "# (!) Spell in the same way they are in Open Images Dataset\n",
    "# (!) No need to use '_' if the name consists of two or more words\n",
    "labels = ['Horse', 'Tiger', 'Cat', 'Dog', 'Polar bear']\n"
   ]
  },
  {
   "cell_type": "markdown",
   "metadata": {},
   "source": [
    "## Plotting 100 images from custom dataset"
   ]
  },
  {
   "cell_type": "code",
   "execution_count": null,
   "metadata": {
    "scrolled": true
   },
   "outputs": [],
   "source": [
    "# Magic function that renders the figure in a jupyter notebook\n",
    "# instead of displaying a figure object\n",
    "%matplotlib inline\n",
    "\n",
    "\n",
    "# Setting default size of the plot\n",
    "plt.rcParams['figure.figsize'] = (10.0, 60.0)\n",
    "\n",
    "\n",
    "# Defining a figure object with number of needed subplots\n",
    "# ax is a (25, 4) numpy array\n",
    "# To access specific subplot we call it by ax[0, 0]\n",
    "figure, ax = plt.subplots(nrows=25, ncols=4)\n",
    "\n",
    "\n",
    "# Plotting 100 examples along 25 rows and 4 columns\n",
    "for i in range(25):\n",
    "    for j in range(4):\n",
    "        # Preparing random index\n",
    "        ii = np.random.randint(low=0, high=x_train.shape[0])\n",
    "        \n",
    "        # Plotting current subplot\n",
    "        ax[i, j].imshow(x_train[ii].astype('uint8'))\n",
    "        \n",
    "        # Giving name to current subplot\n",
    "        # according to class's name in list 'labels'\n",
    "        ax[i, j].set_title(labels[y_train[ii]], fontsize=16)\n",
    "        \n",
    "        # Hiding axis\n",
    "        ax[i, j].axis('off')\n",
    "\n",
    "\n",
    "# Adjusting distance between subplots\n",
    "plt.tight_layout()\n",
    "\n",
    "\n",
    "# Saving the plot\n",
    "figure.savefig('plot_100_custom_images.png')\n",
    "\n",
    "\n",
    "# Showing the plot\n",
    "plt.show()\n"
   ]
  },
  {
   "cell_type": "markdown",
   "metadata": {},
   "source": [
    "## Plotting histogram to show distribution of images among classes"
   ]
  },
  {
   "cell_type": "code",
   "execution_count": null,
   "metadata": {},
   "outputs": [],
   "source": [
    "# Magic function that renders the figure in a jupyter notebook\n",
    "# instead of displaying a figure object\n",
    "%matplotlib inline\n",
    "\n",
    "\n",
    "# Setting default size of the plot\n",
    "plt.rcParams['figure.figsize'] = (10.0, 7.0)\n",
    "\n",
    "\n",
    "# Calculating number of images for every class\n",
    "# Iterating all classes' indexes in 'y_train' array\n",
    "# Using Numpy function 'unique'\n",
    "# Returning sorted unique elements and their frequencies\n",
    "classesIndexes, classesFrequency = np.unique(y_train, return_counts=True)\n",
    "\n",
    "\n",
    "# Printing frequency (number of images) for every class\n",
    "print('classes indexes:' , classesIndexes)\n",
    "print('classes frequency:', classesFrequency)\n",
    "\n",
    "\n",
    "# Plotting histogram of 5 classes with their number of images\n",
    "# Defining a figure object \n",
    "figure = plt.figure()\n",
    "\n",
    "\n",
    "# Plotting Bar chart\n",
    "plt.bar(classesIndexes, classesFrequency, align='center', alpha=0.6)\n",
    "\n",
    "\n",
    "# Giving name to Y axis\n",
    "plt.ylabel('Class frequency', fontsize=16)\n",
    "\n",
    "\n",
    "# Giving names to every Bar along X axis\n",
    "plt.xticks(classesIndexes, labels, fontsize=16)\n",
    "\n",
    "\n",
    "# Giving name to the plot\n",
    "plt.title('Histogram of Custom Dataset', fontsize=20)\n",
    "\n",
    "\n",
    "# Saving the plot\n",
    "figure.savefig('histogram_custom_images.png')\n",
    "\n",
    "\n",
    "# Showing the plot\n",
    "plt.show()\n"
   ]
  },
  {
   "cell_type": "markdown",
   "metadata": {},
   "source": [
    "### Some comments\n",
    "\n",
    "To get more details of usage Numpy function 'unique':  \n",
    "**print(help(np.unique))**  \n",
    "\n",
    "More details and examples are here:  \n",
    "https://numpy.org/doc/stable/reference/generated/numpy.unique.html  \n",
    "\n",
    "\n",
    "To get more details of usage Bar charts from matplotlib library:  \n",
    "**print(help(plt.bar))**  \n",
    "\n",
    "More details and examples are here:  \n",
    "https://matplotlib.org/3.2.1/api/_as_gen/matplotlib.pyplot.bar.html\n",
    "\n"
   ]
  },
  {
   "cell_type": "code",
   "execution_count": null,
   "metadata": {
    "scrolled": false
   },
   "outputs": [],
   "source": [
    "print(help(np.unique))"
   ]
  },
  {
   "cell_type": "code",
   "execution_count": null,
   "metadata": {},
   "outputs": [],
   "source": [
    "print(help(plt.bar))"
   ]
  }
 ],
 "metadata": {
  "kernelspec": {
   "display_name": "Python 3",
   "language": "python",
   "name": "python3"
  },
  "language_info": {
   "codemirror_mode": {
    "name": "ipython",
    "version": 3
   },
   "file_extension": ".py",
   "mimetype": "text/x-python",
   "name": "python",
   "nbconvert_exporter": "python",
   "pygments_lexer": "ipython3",
   "version": "3.7.7"
  }
 },
 "nbformat": 4,
 "nbformat_minor": 2
}
